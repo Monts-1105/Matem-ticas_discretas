{
  "cells": [
    {
      "cell_type": "markdown",
      "metadata": {},
      "source": [
        "# Máquinas de Touring\n",
        "\n",
        "<img src = \"https://www.ellitoral.com/images/2023/05/11/Klmqnm6CD_1300x655__1.jpg\"\n",
        "   style=\"display: block; margin-left: auto; margin-right: auto;\"/>"
      ]
    },
    {
      "cell_type": "markdown",
      "metadata": {},
      "source": [
        "## Desglose del código\n",
        "\n",
        "Se define la clase **MaquinaDeTouring**\n",
        "Y se inserta el constructor **__init__** en el que se definen las variables que contendrá nuestro código:\n",
        "\n",
        "**self.cinta:** La cinta de la máquina de Turing. Es una lista de caracteres, cada uno representando un símbolo en la cinta.\n",
        "\n",
        "**self.posicion_del_cabezal:** La posición del cabezal de lectura/escritura. Comienza en 0 (la primera posición de la cinta).\n",
        "\n",
        "**self.estado_actual:** El estado actual de la máquina. Comienza en el estado inicial proporcionado.\n",
        "\n",
        "**self.estados_de_aceptacion:** Un conjunto de estados que indican cuando la máquina ha terminado de procesar (estados de aceptación).\n",
        "\n",
        "**self.funcion_de_transicion:** Un diccionario que define las reglas de transición de la máquina."
      ]
    },
    {
      "cell_type": "code",
      "execution_count": 13,
      "metadata": {
        "trusted": true
      },
      "outputs": [],
      "source": [
        "class MaquinaDeTuring:\n",
        "    def __init__(self, cinta, estado_inicial, estados_de_aceptacion, funcion_de_transicion):\n",
        "        self.cinta = list(cinta)\n",
        "        self.posicion_del_cabezal = 0\n",
        "        self.estado_actual = estado_inicial\n",
        "        self.estados_de_aceptacion = estados_de_aceptacion\n",
        "        self.funcion_de_transicion = funcion_de_transicion"
      ]
    },
    {
      "cell_type": "markdown",
      "metadata": {},
      "source": [
        "Se define el método **Paso**"
      ]
    },
    {
      "cell_type": "code",
      "execution_count": 14,
      "metadata": {
        "trusted": true
      },
      "outputs": [],
      "source": [
        "def paso(self):\n",
        "    simbolo = self.cinta[self.posicion_del_cabezal]\n",
        "    accion = self.funcion_de_transicion.get((self.estado_actual, simbolo))"
      ]
    },
    {
      "cell_type": "markdown",
      "metadata": {},
      "source": [
        "En donde:\n",
        "\n",
        "**simbolo:** Obtiene el símbolo bajo el cabezal de lectura/escritura.\n",
        "\n",
        "**accion:** Busca en la función de transición la acción correspondiente al par (estado actual, símbolo). Si no se encuentra ninguna acción, se retorna False y la máquina se detiene."
      ]
    },
    {
      "cell_type": "markdown",
      "metadata": {},
      "source": [
        "Si accion es None se desempaqueta la acción obtenida. La acción incluye el nuevo estado, el nuevo símbolo que se escribirá en la cinta, y la dirección en la que se moverá el cabezal (D para derecha, I para izquierda).\n",
        "\n",
        "Se actualiza la cinta y se actualiza el estado."
      ]
    },
    {
      "cell_type": "code",
      "execution_count": 16,
      "metadata": {
        "trusted": true
      },
      "outputs": [
        {
          "ename": "IndentationError",
          "evalue": "unindent does not match any outer indentation level (<string>, line 4)",
          "output_type": "error",
          "traceback": [
            "\u001b[1;36m  File \u001b[1;32m<string>:4\u001b[1;36m\u001b[0m\n\u001b[1;33m    nuevo_estado, nuevo_simbolo, direccion = accion\u001b[0m\n\u001b[1;37m                                                   ^\u001b[0m\n\u001b[1;31mIndentationError\u001b[0m\u001b[1;31m:\u001b[0m unindent does not match any outer indentation level\n"
          ]
        }
      ],
      "source": [
        "if accion is None:\n",
        "        return False\n",
        "\n",
        "    nuevo_estado, nuevo_simbolo, direccion = accion\n",
        "    self.cinta[self.posicion_del_cabezal] = nuevo_simbolo\n",
        "    self.estado_actual = nuevo_estado"
      ]
    },
    {
      "cell_type": "markdown",
      "metadata": {},
      "source": [
        "Luego de moverá el cabezal a la derecha o a la izquierda según la dirección especificada. Si el cabezal se mueve fuera de los límites de la cinta, se extiende la cinta con un símbolo en blanco (_)."
      ]
    },
    {
      "cell_type": "code",
      "execution_count": null,
      "metadata": {
        "trusted": true
      },
      "outputs": [],
      "source": [
        "if direccion == 'D':\n",
        "        self.posicion_del_cabezal += 1\n",
        "        if self.posicion_del_cabezal >= len(self.cinta):\n",
        "            self.cinta.append('_')  # Extiende la cinta con un símbolo en blanco\n",
        "    elif direccion == 'I':\n",
        "        if self.posicion_del_cabezal > 0:\n",
        "            self.posicion_del_cabezal -= 1\n",
        "        else:\n",
        "            self.cinta.insert(0, '_')  # Extiende la cinta con un símbolo en blanco\n",
        "    return True"
      ]
    },
    {
      "cell_type": "markdown",
      "metadata": {},
      "source": [
        "Se define el método **ejecutar** en donde se realizará un bucle en donde se ejecutaran los pasos hasta que la máquina alcanza un estado de aceptación.\n",
        "\n",
        "Luego se realiza un paso de la máquina. Si paso retorna False, significa que no hay más transiciones posibles y el bucle se detiene.\n",
        "\n",
        "Y finalmente devuelve el contenido de la cinta como una cadena de caracteres."
      ]
    },
    {
      "cell_type": "code",
      "execution_count": null,
      "metadata": {
        "trusted": true
      },
      "outputs": [],
      "source": [
        "def ejecutar(self):\n",
        "    while self.estado_actual not in self.estados_de_aceptacion:\n",
        "        if not self.paso():\n",
        "            break\n",
        "    return ''.join(self.cinta)"
      ]
    },
    {
      "cell_type": "markdown",
      "metadata": {},
      "source": [
        "## Código completo y caso de uso"
      ]
    },
    {
      "cell_type": "code",
      "execution_count": null,
      "metadata": {
        "trusted": true
      },
      "outputs": [
        {
          "name": "stdout",
          "output_type": "stream",
          "text": [
            "Resultado final en la cinta: 1001__\n"
          ]
        }
      ],
      "source": [
        "class MaquinaDeTuring:\n",
        "    def __init__(self, cinta, estado_inicial, estados_de_aceptacion, funcion_de_transicion):\n",
        "        self.cinta = list(cinta)\n",
        "        self.posicion_del_cabezal = 0\n",
        "        self.estado_actual = estado_inicial\n",
        "        self.estados_de_aceptacion = estados_de_aceptacion\n",
        "        self.funcion_de_transicion = funcion_de_transicion\n",
        "\n",
        "    def paso(self):\n",
        "        simbolo = self.cinta[self.posicion_del_cabezal]\n",
        "        accion = self.funcion_de_transicion.get((self.estado_actual, simbolo))\n",
        "        \n",
        "        if accion is None:\n",
        "            return False\n",
        "        \n",
        "        nuevo_estado, nuevo_simbolo, direccion = accion\n",
        "        self.cinta[self.posicion_del_cabezal] = nuevo_simbolo\n",
        "        self.estado_actual = nuevo_estado\n",
        "        \n",
        "        if direccion == 'D':\n",
        "            self.posicion_del_cabezal += 1\n",
        "            if self.posicion_del_cabezal >= len(self.cinta):\n",
        "                self.cinta.append('_')  # Extiende la cinta con un símbolo en blanco\n",
        "        elif direccion == 'I':\n",
        "            if self.posicion_del_cabezal > 0:\n",
        "                self.posicion_del_cabezal -= 1\n",
        "            else:\n",
        "                self.cinta.insert(0, '_')  # Extiende la cinta con un símbolo en blanco\n",
        "        return True\n",
        "\n",
        "    def ejecutar(self):\n",
        "        while self.estado_actual not in self.estados_de_aceptacion:\n",
        "            if not self.paso():\n",
        "                break\n",
        "        return ''.join(self.cinta)\n",
        "    \n",
        "cinta = \"0110\"\n",
        "estado_inicial = \"q0\"\n",
        "estados_de_aceptacion = {\"q_aceptar\"}\n",
        "funcion_de_transicion = {\n",
        "    (\"q0\", \"0\"): (\"q0\", \"1\", \"D\"),\n",
        "    (\"q0\", \"1\"): (\"q0\", \"0\", \"D\"),\n",
        "    (\"q0\", \"_\"): (\"q_aceptar\", \"_\", \"D\"),\n",
        "}\n",
        "\n",
        "mt = MaquinaDeTuring(cinta, estado_inicial, estados_de_aceptacion, funcion_de_transicion)\n",
        "\n",
        "resultado = mt.ejecutar()\n",
        "print(f\"Resultado final en la cinta: {resultado}\")"
      ]
    },
    {
      "cell_type": "markdown",
      "metadata": {},
      "source": [
        "La máquina comienza en el estado \"q0\" y lee el primer símbolo \"0\".\n",
        "Según la función de transición, \"0\" se convierte en \"1\" y el cabezal se mueve a la derecha.\n",
        "La máquina repite este proceso para cada símbolo en la cinta.\n",
        "Cuando el cabezal alcanza el final de la cinta (representado por \"_\"), la máquina cambia al estado de aceptación \"q_aceptar\" y se detiene.\n",
        "El contenido final de la cinta se muestra como \"1001\"."
      ]
    },
    {
      "cell_type": "markdown",
      "metadata": {},
      "source": []
    },
    {
      "cell_type": "markdown",
      "metadata": {},
      "source": []
    }
  ],
  "metadata": {
    "kernelspec": {
      "display_name": "Python 3",
      "language": "python",
      "name": "python3"
    },
    "language_info": {
      "codemirror_mode": {
        "name": "ipython",
        "version": 3
      },
      "file_extension": ".py",
      "mimetype": "text/x-python",
      "name": "python",
      "nbconvert_exporter": "python",
      "pygments_lexer": "ipython3",
      "version": "3.12.2"
    }
  },
  "nbformat": 4,
  "nbformat_minor": 4
}
