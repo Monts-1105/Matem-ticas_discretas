{
  "metadata": {
    "kernelspec": {
      "name": "python",
      "display_name": "Python (Pyodide)",
      "language": "python"
    },
    "language_info": {
      "codemirror_mode": {
        "name": "python",
        "version": 3
      },
      "file_extension": ".py",
      "mimetype": "text/x-python",
      "name": "python",
      "nbconvert_exporter": "python",
      "pygments_lexer": "ipython3",
      "version": "3.8"
    }
  },
  "nbformat_minor": 4,
  "nbformat": 4,
  "cells": [
    {
      "cell_type": "markdown",
      "source": "# Teoría de números\n\n## Teoría de conjuntos\n\nLa teoría de conjuntos es una rama de la lógica-matemática que se encarga del estudio de las relaciones entre entidades denominadas conjuntos. Los conjuntos se caracterizan por ser colecciones de objetos de una misma naturaleza. Dichos objetos son los elementos del conjunto y pueden ser: números, letras, figuras geométricas, palabras que representan objetos, los objetos mismos y otros.",
      "metadata": {}
    },
    {
      "cell_type": "markdown",
      "source": "### Creación de conjuntos\n\nEn Python podemos crear un conjunto utilizando llaves {} o la función set().",
      "metadata": {}
    },
    {
      "cell_type": "code",
      "source": "A = {1, 2, 3, 4, 5}",
      "metadata": {
        "trusted": true
      },
      "outputs": [],
      "execution_count": 1
    },
    {
      "cell_type": "code",
      "source": "B = {3, 4, 5 , 6, 7}",
      "metadata": {
        "trusted": true
      },
      "outputs": [],
      "execution_count": 2
    },
    {
      "cell_type": "code",
      "source": "C = set({3, 6, 9, 12, 15})",
      "metadata": {
        "trusted": true
      },
      "outputs": [],
      "execution_count": 3
    },
    {
      "cell_type": "markdown",
      "source": "### Listas y Conjuntos",
      "metadata": {}
    },
    {
      "cell_type": "code",
      "source": "lista = [1, 2, 3, 4, 5, 1, 2, 3, 4, 5]",
      "metadata": {
        "trusted": true
      },
      "outputs": [],
      "execution_count": 4
    },
    {
      "cell_type": "code",
      "source": "lista",
      "metadata": {
        "trusted": true
      },
      "outputs": [
        {
          "execution_count": 5,
          "output_type": "execute_result",
          "data": {
            "text/plain": "[1, 2, 3, 4, 5, 1, 2, 3, 4, 5]"
          },
          "metadata": {}
        }
      ],
      "execution_count": 5
    },
    {
      "cell_type": "code",
      "source": "conjunto = set(lista)",
      "metadata": {
        "trusted": true
      },
      "outputs": [],
      "execution_count": 6
    },
    {
      "cell_type": "code",
      "source": "conjunto",
      "metadata": {
        "trusted": true
      },
      "outputs": [
        {
          "execution_count": 7,
          "output_type": "execute_result",
          "data": {
            "text/plain": "{1, 2, 3, 4, 5}"
          },
          "metadata": {}
        }
      ],
      "execution_count": 7
    },
    {
      "cell_type": "markdown",
      "source": "#### Operaciones\n\nPython proporciona operadores y métodos para realizar las operaciones básicas de conjuntos como unión, intersección, diferencia y diferencia simétrica.o:",
      "metadata": {}
    },
    {
      "cell_type": "markdown",
      "source": "##### Unión \n\nLa operación de unión en teoría de conjuntos es una operación que combina dos conjuntos para formar un nuevo conjunto que contiene todos os elementos que peretenencen a almenos uno de los conjuntos originales sin duplicados.\nFormalmente, si A y B son conjuntos, la unión de A y B se define como el conjunto C que contiene todos los elementos que pertenecen a A, a B, o a ambos.\nMatemáticamente esto se puede expresar como:\n\n$$\nC = A \\cup B = {x:x \\in A \\quad o \\quad x \\in B}\n$$\n\nEn Python, la operación de unión puede realizarse utilizando el operador | o el método \".union()\".",
      "metadata": {}
    },
    {
      "cell_type": "code",
      "source": "A | B",
      "metadata": {
        "trusted": true
      },
      "outputs": [
        {
          "execution_count": 8,
          "output_type": "execute_result",
          "data": {
            "text/plain": "{1, 2, 3, 4, 5, 6, 7}"
          },
          "metadata": {}
        }
      ],
      "execution_count": 8
    },
    {
      "cell_type": "code",
      "source": "A.union(B)",
      "metadata": {
        "trusted": true
      },
      "outputs": [
        {
          "execution_count": 9,
          "output_type": "execute_result",
          "data": {
            "text/plain": "{1, 2, 3, 4, 5, 6, 7}"
          },
          "metadata": {}
        }
      ],
      "execution_count": 9
    },
    {
      "cell_type": "markdown",
      "source": "###### Ejemplo 1:\n\nDados dos conjuntos A={1,2,3,4,5,6,7,} y B={8,9,10,11} la unión de estos conjuntos será A∪B={1,2,3,4,5,6,7,8,9,10,11}. Usando diagramas de Venn se tendría lo siguiente:\n\n<img src = \"https://www.conoce3000.com/html/espaniol/Libros/Matematica01/imagenes/UnionConjuntos01m.jpg\"\r\n   style=\"display: block; margin-left: auto; margin-right: auto;\"/>\n\nTambién se puede graficar del siguiente modo:\n\n<img src = \"https://www.conoce3000.com/html/espaniol/Libros/Matematica01/imagenes/10.3Ejemplo01m.jpg\"\r\n   style=\"display: block; margin-left: auto; margin-right: auto;\"/>>",
      "metadata": {}
    },
    {
      "cell_type": "markdown",
      "source": "###### Ejemplo 2:\n\nDados dos conjuntos A={1,2,3,4,5} y B={4,5,6,7,8,9} la unión de estos conjuntos será A∪B={1,2,3,4,5,6,7,8,9}. Usando diagramas de Venn se tendría lo siguiente:\n\n<img src = \"https://www.conoce3000.com/html/espaniol/Libros/Matematica01/imagenes/UnionConjuntos02m.jpg\"\r\n   style=\"display: block; margin-left: auto; margin-right: auto;\"/>",
      "metadata": {}
    },
    {
      "cell_type": "markdown",
      "source": "###### Ejemplo 3:\n\nDados dos conjuntos F={x/x estudiantes que juegan fútbol} y B={x/x estudiantes que juegan básquet}, la unión será F∪B={x/x estudiantes que juegan fútbol o básquet}. Usando diagramas de Venn se tendría lo siguiente:\n\n<img src = \"https://www.conoce3000.com/html/espaniol/Libros/Matematica01/imagenes/UnionConjuntos03m.jpg\"\r\n   style=\"display: block; margin-left: auto; margin-right: auto;\"/>",
      "metadata": {}
    },
    {
      "cell_type": "markdown",
      "source": "###### Ejemplo 4:\n\nDados los dos conjuntos A={3, 5, 6, 7} y B={5,6}, en donde B está incluido en A, la unión será AUB={3,5,6,7}. Usando diagramas de Venn se tendría:\n\n<img src = \"https://www.conoce3000.com/html/espaniol/Libros/Matematica01/imagenes/10.3Ejemplo04m.jpg\"\r\n   style=\"display: block; margin-left: auto; margin-right: auto;\"/>",
      "metadata": {}
    },
    {
      "cell_type": "markdown",
      "source": "##### Intersección\n\nLa operación de intersección en teoría de conjuntos es una operación que combina dos conjuntos para formar un nuevo conjunto que contiene únicamente los elementos que pertenecen a ambos conjuntos originales.\r\nFormalmente, si A y B son conjuntos, la intersección de A y B se define como el conjunto C que contiene todos los elementos que pertenecen tanto a A como a B.\r\nMatemáticamente, esto se puede expresar com\n\n$$\nC = A \\cap B= {x:x \\in A \\quad y \\quad x \\in B}\n$$\n\nEn Python, la operación de unión puede realizarse utilizando el operador & o el método \".intersection()\".o:",
      "metadata": {}
    },
    {
      "cell_type": "code",
      "source": "A & B",
      "metadata": {
        "trusted": true
      },
      "outputs": [
        {
          "execution_count": 10,
          "output_type": "execute_result",
          "data": {
            "text/plain": "{3, 4, 5}"
          },
          "metadata": {}
        }
      ],
      "execution_count": 10
    },
    {
      "cell_type": "code",
      "source": "A.intersection(B)",
      "metadata": {
        "trusted": true
      },
      "outputs": [
        {
          "execution_count": 11,
          "output_type": "execute_result",
          "data": {
            "text/plain": "{3, 4, 5}"
          },
          "metadata": {}
        }
      ],
      "execution_count": 11
    },
    {
      "cell_type": "markdown",
      "source": "###### Ejemplo 1:\n\nDados dos conjuntos A={1,2,3,4,5} y B={4,5,6,7,8,9} la intersección de estos conjuntos será A∩B={4,5}. Usando diagramas de Venn se tendría lo siguiente:\n\n<img src = \"https://www.conoce3000.com/html/espaniol/Libros/Matematica01/imagenes/Interseccion01m.jpg\"\r\n   style=\"display: block; margin-left: auto; margin-right: auto;\"/>",
      "metadata": {}
    },
    {
      "cell_type": "markdown",
      "source": "###### Ejemplo 2:\n\nDados dos conjuntos A={x/x estudiantes que juegan fútbol} y B={x/x estudiantes que juegan básquet}, la intersección será F∩B={x/x estudiantes que juegan fútbol y básquet}. Usando diagramas de Venn se tendría lo siguiente:\r\n\n<img src = \"https://www.conoce3000.com/html/espaniol/Libros/Matematica01/imagenes/Interseccion02m.jpg\"\r\n   style=\"display: block; margin-left: auto; margin-right: auto;\"/>",
      "metadata": {}
    },
    {
      "cell_type": "markdown",
      "source": "##### Diferencia \n\nLa operación de diferencia en teoría de conjuntos es una operación que combina dos conjuntos para formar un nuevo conjunto que contiene todos los elementos que pertenecen al primer conjunto pero no al segundo.\r\nFormalmente, si A y B son conjuntos, la diferencia de A y B se define como el conjunto C que contiene todos los elementos que pertenecen a A pero no a B.\r\nMatemáticamente, esto se puede expresar com\n\n$$\nC = A - B  =  {x:x \\in A \\quad \\ y \\quad x \\notin B}\n$$\n\nEn Python, la operación de diferencia puede realizarse utilizando el operador - o el método \".difference()\".",
      "metadata": {}
    },
    {
      "cell_type": "code",
      "source": "A - B",
      "metadata": {
        "trusted": true
      },
      "outputs": [
        {
          "execution_count": 12,
          "output_type": "execute_result",
          "data": {
            "text/plain": "{1, 2}"
          },
          "metadata": {}
        }
      ],
      "execution_count": 12
    },
    {
      "cell_type": "code",
      "source": "A.difference(B)",
      "metadata": {
        "trusted": true
      },
      "outputs": [
        {
          "execution_count": 13,
          "output_type": "execute_result",
          "data": {
            "text/plain": "{1, 2}"
          },
          "metadata": {}
        }
      ],
      "execution_count": 13
    },
    {
      "cell_type": "markdown",
      "source": "###### Ejemplo 1:\n\nDados dos conjuntos A={1,2,3,4,5} y B={4,5,6,7,8,9} la diferencia de estos conjuntos será A-B={1,2,3}. Usando diagramas de Venn se tendría lo siguiente:\n\n<img src = \"https://www.conoce3000.com/html/espaniol/Libros/Matematica01/imagenes/Diferencia01m.jpg\"\r\n   style=\"display: block; margin-left: auto; margin-right: auto;\"/>",
      "metadata": {}
    },
    {
      "cell_type": "markdown",
      "source": "###### Ejemplo 2:\n\nDados dos conjuntos A={1,2,3,4,5} y B={4,5,6,7,8,9} la diferencia de estos conjuntos será B-A={6,7,8,9}. Usando diagramas de Venn se tendría lo siguiente:\n\n<img src = \"https://www.conoce3000.com/html/espaniol/Libros/Matematica01/imagenes/Diferencia02m.jpg\"\r\n   style=\"display: block; margin-left: auto; margin-right: auto;\"/>",
      "metadata": {}
    },
    {
      "cell_type": "markdown",
      "source": "###### Ejemplo 3:\n\nDados dos conjuntos F={x/x estudiantes que juegan fútbol} y B={x/x estudiantes que juegan básquet}, la diferencia de F con B, será F-B={x/x estudiantes que sólo juegan fútbol}. Usando diagramas de Venn se tendría lo siguiente:\n\n<img src = \"https://www.conoce3000.com/html/espaniol/Libros/Matematica01/imagenes/Diferencia03m.jpg\"\r\n   style=\"display: block; margin-left: auto; margin-right: auto;\"/>",
      "metadata": {}
    },
    {
      "cell_type": "markdown",
      "source": "###### Ejemplo 4:\n\nDados dos conjuntos F={x/x estudiantes que juegan fútbol} y B={x/x estudiantes que juegan básquet}, la diferencia de B con F, será B-F={x/x estudiantes que sólo juegan básquet}. Usando diagramas de Venn se tendría lo siguiente:\n\n<img src = \"https://www.conoce3000.com/html/espaniol/Libros/Matematica01/imagenes/Diferencia04m.jpg\"\r\n   style=\"display: block; margin-left: auto; margin-right: auto;\"/>",
      "metadata": {}
    },
    {
      "cell_type": "markdown",
      "source": "##### Diferencia simétrica\n\nLa operación de diferencia simétrica en teoría de conjuntos es una operación que combina dos conjuntos para formar un nuevo conjunto que contiene todos los elementos que pertenecen exclusivamente a uno de los conjuntos.\r\nFormalmente, si A y B son conjuntos, la diferencia simétrica de A y B se define como el conjunto C que contiene todos los elementos que pertenecen a A o a B, pero no a ambos conjuntos simultáneamente.\r\nMatemáticamente, esto se puede expresar com\n\n$$\nC = A \\triangle B = {x(:x \\in A \\quad o \\quad x \\in B) y (x \\notin A \\quad o \\quad x \\notin B)}\n$$\n\nEn Python, la operación de unión puede realizarse utilizando el operador ^ o el método \"symmetric_difference()\".o:",
      "metadata": {}
    },
    {
      "cell_type": "code",
      "source": "A ^ B",
      "metadata": {
        "trusted": true
      },
      "outputs": [
        {
          "execution_count": 14,
          "output_type": "execute_result",
          "data": {
            "text/plain": "{1, 2, 6, 7}"
          },
          "metadata": {}
        }
      ],
      "execution_count": 14
    },
    {
      "cell_type": "code",
      "source": "A.symmetric_difference(B)",
      "metadata": {
        "trusted": true
      },
      "outputs": [
        {
          "execution_count": 15,
          "output_type": "execute_result",
          "data": {
            "text/plain": "{1, 2, 6, 7}"
          },
          "metadata": {}
        }
      ],
      "execution_count": 15
    },
    {
      "cell_type": "markdown",
      "source": "###### Ejemplo 1:\n\nDados dos conjuntos A={1,2,3,4,5} y B={4,5,6,7,8,9} la diferencia simétrica de estos conjuntos será A △ B={1,2,3,6,7,8,9}. Usando diagramas de Venn se tendría lo siguiente:\n\n<img src = \"https://www.conoce3000.com/html/espaniol/Libros/Matematica01/imagenes/DiferenciaSimetrica01m.jpg\"\r\n   style=\"display: block; margin-left: auto; margin-right: auto;\"/>",
      "metadata": {}
    },
    {
      "cell_type": "markdown",
      "source": "###### Ejemplo 1:\n\nDados dos conjuntos F={x/x estudiantes que juegan fútbol} y B={x/x estudiantes que juegan básquet}, la diferencia simétrica será F △ B={x/x estudiantes que sólo juegan fútbol y básquet}. Usando diagramas de Venn se tendría lo siguiente:\r\n\n<img src = \"https://www.conoce3000.com/html/espaniol/Libros/Matematica01/imagenes/DiferenciaSimetrica02m.jpg\"\n   style=\"display: block; margin-left: auto; margin-right: auto;\"/>",
      "metadata": {}
    },
    {
      "cell_type": "code",
      "source": "",
      "metadata": {
        "trusted": true
      },
      "outputs": [],
      "execution_count": null
    }
  ]
}
